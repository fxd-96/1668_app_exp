{
  "cells": [
    {
      "cell_type": "markdown",
      "metadata": {
        "id": "view-in-github",
        "colab_type": "text"
      },
      "source": [
        "<a href=\"https://colab.research.google.com/github/fxd-96/1668_app_exp/blob/main/0385-clasificador.ipynb\" target=\"_parent\"><img src=\"https://colab.research.google.com/assets/colab-badge.svg\" alt=\"Open In Colab\"/></a>"
      ]
    },
    {
      "cell_type": "code",
      "id": "initial_id",
      "metadata": {
        "ExecuteTime": {
          "end_time": "2024-12-24T20:30:11.758926Z",
          "start_time": "2024-12-24T20:30:10.745052Z"
        },
        "colab": {
          "base_uri": "https://localhost:8080/"
        },
        "id": "initial_id",
        "outputId": "6f1ed060-6163-4fae-a34b-3db2b856f13d"
      },
      "source": [
        "pip install pandas numpy scikit-learn nltk"
      ],
      "outputs": [
        {
          "output_type": "stream",
          "name": "stdout",
          "text": [
            "Requirement already satisfied: pandas in /usr/local/lib/python3.11/dist-packages (2.2.2)\n",
            "Requirement already satisfied: numpy in /usr/local/lib/python3.11/dist-packages (2.0.2)\n",
            "Requirement already satisfied: scikit-learn in /usr/local/lib/python3.11/dist-packages (1.6.1)\n",
            "Requirement already satisfied: nltk in /usr/local/lib/python3.11/dist-packages (3.9.1)\n",
            "Requirement already satisfied: python-dateutil>=2.8.2 in /usr/local/lib/python3.11/dist-packages (from pandas) (2.9.0.post0)\n",
            "Requirement already satisfied: pytz>=2020.1 in /usr/local/lib/python3.11/dist-packages (from pandas) (2025.2)\n",
            "Requirement already satisfied: tzdata>=2022.7 in /usr/local/lib/python3.11/dist-packages (from pandas) (2025.2)\n",
            "Requirement already satisfied: scipy>=1.6.0 in /usr/local/lib/python3.11/dist-packages (from scikit-learn) (1.15.2)\n",
            "Requirement already satisfied: joblib>=1.2.0 in /usr/local/lib/python3.11/dist-packages (from scikit-learn) (1.4.2)\n",
            "Requirement already satisfied: threadpoolctl>=3.1.0 in /usr/local/lib/python3.11/dist-packages (from scikit-learn) (3.6.0)\n",
            "Requirement already satisfied: click in /usr/local/lib/python3.11/dist-packages (from nltk) (8.1.8)\n",
            "Requirement already satisfied: regex>=2021.8.3 in /usr/local/lib/python3.11/dist-packages (from nltk) (2024.11.6)\n",
            "Requirement already satisfied: tqdm in /usr/local/lib/python3.11/dist-packages (from nltk) (4.67.1)\n",
            "Requirement already satisfied: six>=1.5 in /usr/local/lib/python3.11/dist-packages (from python-dateutil>=2.8.2->pandas) (1.17.0)\n"
          ]
        }
      ],
      "execution_count": 8
    },
    {
      "metadata": {
        "ExecuteTime": {
          "end_time": "2024-12-24T20:30:15.474939Z",
          "start_time": "2024-12-24T20:30:14.984399Z"
        },
        "colab": {
          "base_uri": "https://localhost:8080/"
        },
        "id": "9d6df02e81e3ca45",
        "outputId": "cae56fc8-c79c-48a6-f3c6-2456139046c2"
      },
      "cell_type": "code",
      "source": [
        "# Celda 1: Importación de bibliotecas\n",
        "import pandas as pd\n",
        "import numpy as np\n",
        "from sklearn.model_selection import train_test_split\n",
        "from sklearn.feature_extraction.text import TfidfVectorizer\n",
        "from sklearn.naive_bayes import MultinomialNB\n",
        "from sklearn.metrics import classification_report\n",
        "import nltk\n",
        "\n",
        "from nltk.corpus import stopwords\n",
        "from nltk.tokenize import word_tokenize\n",
        "\n",
        "\n",
        "# Descargar recursos NLTK\n",
        "nltk.download('punkt')\n",
        "nltk.download('stopwords')\n",
        "nltk.download('punkt_tab')"
      ],
      "id": "9d6df02e81e3ca45",
      "outputs": [
        {
          "output_type": "stream",
          "name": "stderr",
          "text": [
            "[nltk_data] Downloading package punkt to /root/nltk_data...\n",
            "[nltk_data]   Package punkt is already up-to-date!\n",
            "[nltk_data] Downloading package stopwords to /root/nltk_data...\n",
            "[nltk_data]   Package stopwords is already up-to-date!\n",
            "[nltk_data] Downloading package punkt_tab to /root/nltk_data...\n",
            "[nltk_data]   Package punkt_tab is already up-to-date!\n"
          ]
        },
        {
          "output_type": "execute_result",
          "data": {
            "text/plain": [
              "True"
            ]
          },
          "metadata": {},
          "execution_count": 9
        }
      ],
      "execution_count": 9
    },
    {
      "metadata": {
        "ExecuteTime": {
          "end_time": "2024-12-24T20:30:17.922332Z",
          "start_time": "2024-12-24T20:30:17.916091Z"
        },
        "id": "646cdc4c9cd68cc3"
      },
      "cell_type": "code",
      "source": [
        "# Celda 2: Definición del clasificador\n",
        "class NoticiaClassifier:\n",
        "    def __init__(self):\n",
        "        self.vectorizer = TfidfVectorizer(stop_words=stopwords.words('spanish'))\n",
        "        self.classifier = MultinomialNB()\n",
        "\n",
        "    def preprocesar_texto(self, texto):\n",
        "        tokens = word_tokenize(texto.lower())\n",
        "        tokens = [token for token in tokens if token.isalpha()]\n",
        "        return ' '.join(tokens)\n",
        "\n",
        "    def entrenar(self, X_train, y_train):\n",
        "        X_train_prep = [self.preprocesar_texto(texto) for texto in X_train]\n",
        "        X_train_vec = self.vectorizer.fit_transform(X_train_prep)\n",
        "        self.classifier.fit(X_train_vec, y_train)\n",
        "\n",
        "    def predecir(self, texto):\n",
        "        texto_prep = self.preprocesar_texto(texto)\n",
        "        texto_vec = self.vectorizer.transform([texto_prep])\n",
        "        return self.classifier.predict(texto_vec)[0]\n",
        "\n",
        "    def evaluar(self, X_test, y_test):\n",
        "        X_test_prep = [self.preprocesar_texto(texto) for texto in X_test]\n",
        "        X_test_vec = self.vectorizer.transform(X_test_prep)\n",
        "        y_pred = self.classifier.predict(X_test_vec)\n",
        "        return classification_report(y_test, y_pred, zero_division=0)"
      ],
      "id": "646cdc4c9cd68cc3",
      "outputs": [],
      "execution_count": 10
    },
    {
      "metadata": {
        "ExecuteTime": {
          "end_time": "2024-12-24T20:30:23.105891Z",
          "start_time": "2024-12-24T20:30:23.102012Z"
        },
        "id": "25c88fa95ef3d20b"
      },
      "cell_type": "code",
      "source": [
        "# Celda 3: Datos de entrenamiento\n",
        "noticias = [\n",
        "    # Deportes\n",
        "    \"El Barcelona ganó el partido de fútbol por 3-0\",\n",
        "    \"Mundial de atletismo comienza la próxima semana\",\n",
        "    \"Equipo local clasifica a la final del torneo\",\n",
        "    \"Real Madrid vence 2-1 en partido decisivo\",\n",
        "    \"Nadal avanza a semifinales del torneo\",\n",
        "    \"La selección se prepara para el mundial\",\n",
        "    \"Nuevo récord mundial en 100 metros planos\",\n",
        "    \"El equipo local gana la liga nacional\",\n",
        "    \"Gran victoria en el derbi de la ciudad\",\n",
        "    \"Jugador estrella renueva contrato por 3 años\",\n",
        "\n",
        "    # Ciencia\n",
        "    \"Científicos descubren nueva especie en el Amazonas\",\n",
        "    \"Nuevo descubrimiento en Marte sugiere vida antigua\",\n",
        "    \"Avances prometedores en vacuna contra el cáncer\",\n",
        "    \"Investigadores desarrollan nuevo material sostenible\",\n",
        "    \"Descubren galaxia nunca antes vista\",\n",
        "    \"Científicos logran avance en fusión nuclear\",\n",
        "    \"Nueva especie de dinosaurio hallada en Argentina\",\n",
        "    \"Breakthrough en computación cuántica\",\n",
        "    \"Descubren posible cura para enfermedad rara\",\n",
        "    \"Avance significativo en energía renovable\",\n",
        "\n",
        "    # Politica\n",
        "    \"El presidente anuncia nuevas medidas económicas\",\n",
        "    \"Parlamento aprueba ley de reforma fiscal\",\n",
        "    \"Oposición critica decisiones del gobierno actual\",\n",
        "    \"Nuevas elecciones previstas para el próximo mes\",\n",
        "    \"Ministra de educación renuncia tras escándalo\",\n",
        "    \"Manifestaciones en contra de la corrupción gubernamental\",\n",
        "    \"Aprobada la ley de presupuestos con mayoría simple\",\n",
        "    \"El congreso debate nueva reforma constitucional\",\n",
        "    \"Tension diplomática tras declaraciones del canciller\",\n",
        "    \"Partidos políticos inician campaña electoral\",\n",
        "\n",
        "    # Tecnología\n",
        "    \"Apple presenta su nuevo smartphone con IA integrada\",\n",
        "    \"Hackeo masivo afecta a miles de usuarios en la red\",\n",
        "    \"Nueva actualización de software soluciona problemas de seguridad\",\n",
        "    \"La realidad virtual revoluciona el sector del entretenimiento\",\n",
        "    \"Empresa de tecnología anuncia despidos masivos\",\n",
        "    \"El 5G llega a más ciudades este trimestre\",\n",
        "    \"Críticas al nuevo sistema operativo por fallos de privacidad\",\n",
        "    \"Robot con inteligencia artificial supera prueba de Turing\",\n",
        "    \"Lanzamiento del satélite de comunicaciones más avanzado\",\n",
        "    \"Inversiones millonarias en startups de blockchain\",\n",
        "]\n",
        "\n",
        "categorias = [\n",
        "    \"deportes\", \"deportes\", \"deportes\", \"deportes\", \"deportes\",\n",
        "    \"deportes\", \"deportes\", \"deportes\", \"deportes\", \"deportes\",\n",
        "    \"ciencia\", \"ciencia\", \"ciencia\", \"ciencia\", \"ciencia\",\n",
        "    \"ciencia\", \"ciencia\", \"ciencia\", \"ciencia\", \"ciencia\",\n",
        "    \"politica\", \"politica\", \"politica\", \"politica\", \"politica\",\n",
        "    \"politica\", \"politica\", \"politica\", \"politica\", \"politica\",\n",
        "    \"tecnologia\", \"tecnologia\", \"tecnologia\", \"tecnologia\", \"tecnologia\",\n",
        "    \"tecnologia\", \"tecnologia\", \"tecnologia\", \"tecnologia\", \"tecnologia\",\n",
        "]"
      ],
      "id": "25c88fa95ef3d20b",
      "outputs": [],
      "execution_count": 25
    },
    {
      "metadata": {
        "ExecuteTime": {
          "end_time": "2024-12-24T20:30:26.632989Z",
          "start_time": "2024-12-24T20:30:26.610043Z"
        },
        "colab": {
          "base_uri": "https://localhost:8080/"
        },
        "id": "a77062b26d8371fe",
        "outputId": "c11482f5-a321-4f52-da80-ef0bb4aea1bd"
      },
      "cell_type": "code",
      "source": [
        "# Celda 4: Entrenamiento del modelo\n",
        "X_train, X_test, y_train, y_test = train_test_split(\n",
        "    noticias,\n",
        "    categorias,\n",
        "    test_size=.2,\n",
        "    random_state=42\n",
        ")\n",
        "\n",
        "clasificador = NoticiaClassifier()\n",
        "clasificador.entrenar(X_train, y_train)\n",
        "\n",
        "# Evaluación del modelo\n",
        "print(\"Resultados de la evaluación:\")\n",
        "print(clasificador.evaluar(X_test, y_test))"
      ],
      "id": "a77062b26d8371fe",
      "outputs": [
        {
          "output_type": "stream",
          "name": "stdout",
          "text": [
            "Resultados de la evaluación:\n",
            "              precision    recall  f1-score   support\n",
            "\n",
            "     ciencia       1.00      0.25      0.40         4\n",
            "    deportes       0.25      1.00      0.40         1\n",
            "    politica       1.00      0.50      0.67         2\n",
            "  tecnologia       0.00      0.00      0.00         1\n",
            "\n",
            "    accuracy                           0.38         8\n",
            "   macro avg       0.56      0.44      0.37         8\n",
            "weighted avg       0.78      0.38      0.42         8\n",
            "\n"
          ]
        }
      ],
      "execution_count": 26
    },
    {
      "metadata": {
        "id": "7771826f1a0b134e"
      },
      "cell_type": "markdown",
      "source": [
        "# Métricas de Evaluación en Clasificación de Texto\n",
        "\n",
        "## Conceptos Básicos\n",
        "Para entender las métricas, primero definimos:\n",
        "- **Verdadero Positivo (TP)**: Predicción correcta de la clase positiva\n",
        "- **Falso Positivo (FP)**: Predicción incorrecta de la clase positiva\n",
        "- **Verdadero Negativo (TN)**: Predicción correcta de la clase negativa\n",
        "- **Falso Negativo (FN)**: Predicción incorrecta de la clase negativa\n",
        "\n",
        "## Precision\n",
        "- **Definición**: Proporción de predicciones positivas que son correctas\n",
        "- **Fórmula**: Precision = TP / (TP + FP)\n",
        "- **Ejemplo**: Si el modelo predice \"deportes\" 10 veces y acierta 8, la precision es 0.8\n",
        "- **Importancia**: Mide la calidad de las predicciones positivas\n",
        "\n",
        "## Recall (Sensibilidad)\n",
        "- **Definición**: Proporción de casos positivos reales que fueron identificados correctamente\n",
        "- **Fórmula**: Recall = TP / (TP + FN)\n",
        "- **Ejemplo**: Si hay 10 noticias de \"ciencia\" y el modelo identifica 7, el recall es 0.7\n",
        "- **Importancia**: Mide la capacidad de encontrar todos los casos positivos\n",
        "\n",
        "## F1-Score\n",
        "- **Definición**: Media armónica entre precision y recall\n",
        "- **Fórmula**: F1 = 2 * (Precision * Recall) / (Precision + Recall)\n",
        "- **Rango**: 0 (peor) a 1 (mejor)\n",
        "- **Importancia**: Balance entre precision y recall\n",
        "\n",
        "## Support\n",
        "- **Definición**: Número de muestras de cada clase en el conjunto de prueba\n",
        "- **Ejemplo**: Support = 2 significa que se evaluaron 2 noticias de esa categoría\n",
        "- **Importancia**: Contexto sobre el tamaño de los datos de prueba\n",
        "\n",
        "### Interpretación del Balance\n",
        "- **Precision > Recall**: El modelo es conservador, predice con alta confianza pero puede perder casos\n",
        "- **Recall > Precision**: El modelo es más arriesgado, detecta más casos pero genera más falsos positivos\n",
        "- **Precision ≈ Recall**: El modelo está balanceado\n",
        "\n",
        "## Ejemplos Prácticos\n",
        "```python\n",
        "# Caso de clasificación de noticias\n",
        "results = \"\"\"\n",
        "          precision  recall  f1-score  support\n",
        "ciencia     1.00     1.00     1.00       2\n",
        "deportes    1.00     1.00     1.00       2\n",
        "\"\"\"\n",
        "```\n",
        "\n",
        "- **Interpretación**:\n",
        "  - Precision = 1.00: Todas las predicciones fueron correctas\n",
        "  - Recall = 1.00: Se identificaron todos los casos reales\n",
        "  - F1-Score = 1.00: Rendimiento perfecto\n",
        "  - Support = 2: Se evaluaron 2 muestras por categoría"
      ],
      "id": "7771826f1a0b134e"
    },
    {
      "metadata": {
        "ExecuteTime": {
          "end_time": "2024-12-24T20:30:32.733427Z",
          "start_time": "2024-12-24T20:30:32.726879Z"
        },
        "colab": {
          "base_uri": "https://localhost:8080/"
        },
        "id": "b22c6cdb9e27a6f5",
        "outputId": "c1aa83be-76f7-4da5-e7a4-1e7272eb5d54"
      },
      "cell_type": "code",
      "source": [
        "# Celda 5: Pruebas con nuevas noticias\n",
        "nuevas_noticias = [\n",
        "    \"El equipo local consiguió una victoria histórica\",\n",
        "    \"Descubren nueva vacuna contra el virus\",\n",
        "    \"El precio del dólar alcanza máximo histórico\"\n",
        "]\n",
        "\n",
        "for noticia in nuevas_noticias:\n",
        "    prediccion = clasificador.predecir(noticia)\n",
        "    print(f\"Noticia: {noticia}\")\n",
        "    print(f\"Categoría predicha: {prediccion}\\n\")"
      ],
      "id": "b22c6cdb9e27a6f5",
      "outputs": [
        {
          "output_type": "stream",
          "name": "stdout",
          "text": [
            "Noticia: El equipo local consiguió una victoria histórica\n",
            "Categoría predicha: deportes\n",
            "\n",
            "Noticia: Descubren nueva vacuna contra el virus\n",
            "Categoría predicha: ciencia\n",
            "\n",
            "Noticia: El precio del dólar alcanza máximo histórico\n",
            "Categoría predicha: ciencia\n",
            "\n"
          ]
        }
      ],
      "execution_count": null
    },
    {
      "metadata": {
        "id": "2a6e06b9fbd8d20d"
      },
      "cell_type": "code",
      "outputs": [],
      "execution_count": null,
      "source": [],
      "id": "2a6e06b9fbd8d20d"
    },
    {
      "metadata": {
        "id": "d7737a97b0440733"
      },
      "cell_type": "markdown",
      "source": [],
      "id": "d7737a97b0440733"
    }
  ],
  "metadata": {
    "kernelspec": {
      "display_name": "Python 3",
      "language": "python",
      "name": "python3"
    },
    "language_info": {
      "codemirror_mode": {
        "name": "ipython",
        "version": 2
      },
      "file_extension": ".py",
      "mimetype": "text/x-python",
      "name": "python",
      "nbconvert_exporter": "python",
      "pygments_lexer": "ipython2",
      "version": "2.7.6"
    },
    "colab": {
      "provenance": [],
      "include_colab_link": true
    }
  },
  "nbformat": 4,
  "nbformat_minor": 5
}