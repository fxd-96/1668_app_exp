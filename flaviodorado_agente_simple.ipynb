{
  "cells": [
    {
      "cell_type": "markdown",
      "metadata": {
        "id": "view-in-github",
        "colab_type": "text"
      },
      "source": [
        "<a href=\"https://colab.research.google.com/github/fxd-96/1668_app_exp/blob/main/flaviodorado_agente_simple.ipynb\" target=\"_parent\"><img src=\"https://colab.research.google.com/assets/colab-badge.svg\" alt=\"Open In Colab\"/></a>"
      ]
    },
    {
      "cell_type": "markdown",
      "id": "e887557f6df8247e",
      "metadata": {
        "id": "e887557f6df8247e"
      },
      "source": [
        "# Agentes Simple Reflex (Agentes Reactivos Simples)\n",
        "\n"
      ]
    },
    {
      "cell_type": "code",
      "id": "5c1611f14fc28b82",
      "metadata": {
        "ExecuteTime": {
          "end_time": "2025-01-30T17:39:43.109543Z",
          "start_time": "2025-01-30T17:39:42.904507Z"
        },
        "colab": {
          "base_uri": "https://localhost:8080/"
        },
        "id": "5c1611f14fc28b82",
        "outputId": "2097605b-649b-4b32-b49a-9540bb4a7f20"
      },
      "source": [
        "import requests\n",
        "\n",
        "def interpret_input(response_status):\n",
        "    \"\"\"\n",
        "    Interpreta el percept actual (código HTTP) y genera un estado abstracto.\n",
        "\n",
        "    Implementa el componente de interpretación de un agente simple reflex:\n",
        "    - Solo considera el percept actual, sin historial\n",
        "    - Transforma la entrada en un estado que las reglas condición-acción pueden procesar\n",
        "\n",
        "    Args:\n",
        "        response_status (int): Código HTTP actual\n",
        "\n",
        "    Returns:\n",
        "        str: Estado abstracto ('SUCCESS', 'CLIENT_ERROR', 'SERVER_ERROR', 'UNKNOWN')\n",
        "    \"\"\"\n",
        "    if 200 <= response_status < 300:\n",
        "        return \"EXITO\"\n",
        "    elif 400 <= response_status < 500:\n",
        "        return \"CLIENT_ERROR\"\n",
        "    elif 500 <= response_status < 600:\n",
        "        return \"SERVER_ERROR\"\n",
        "    else:\n",
        "        return \"UNKNOWN\"\n",
        "\n",
        "def rule_match(state):\n",
        "    \"\"\"\n",
        "    Implementa las reglas condición-acción del agente simple reflex.\n",
        "\n",
        "    Estructura básica:\n",
        "    if condición then acción\n",
        "\n",
        "    Args:\n",
        "        state (str): Estado actual del entorno\n",
        "\n",
        "    Returns:\n",
        "        str: Acción a ejecutar según la regla que coincida\n",
        "    \"\"\"\n",
        "    if state == \"EXITO\":\n",
        "        return \"Registro: Todo esta bien.\"\n",
        "    elif state == \"CLIENTE_ERROR\":\n",
        "        return \"Registro: Checar errores en el cliente.\"\n",
        "    elif state == \"SERVIDOR_ERROR\":\n",
        "        return \"Registro: Checar error en servidor.\"\n",
        "    else:\n",
        "        return \"Registro: Error desconocido.\"\n",
        "\n",
        "def simple_reflex_agent(url):\n",
        "    \"\"\"\n",
        "    Agente simple reflex que monitorea URLs.\n",
        "\n",
        "    Características:\n",
        "    - No mantiene estado interno\n",
        "    - Decide solo con el percept actual\n",
        "    - Usa reglas condición-acción\n",
        "    - Entorno totalmente observable (códigos HTTP)\n",
        "\n",
        "    Args:\n",
        "        url (str): URL a monitorear\n",
        "\n",
        "    Returns:\n",
        "        str: Acción ejecutada según reglas definidas\n",
        "    \"\"\"\n",
        "    try:\n",
        "        response = requests.get(url)\n",
        "        state = interpret_input(response.status_code)\n",
        "        action = rule_match(state)\n",
        "        return action\n",
        "    except requests.RequestException as e:\n",
        "        return f\"Error: Failed to fetch the URL. {str(e)}\"\n",
        "\n",
        "# Ejemplo de uso\n",
        "# Revisa la documentacion de los estatus http en https://httpstat.us/\n",
        "url = \"https://httpstat.us/500\"\n",
        "result = simple_reflex_agent(url)\n",
        "print(result)"
      ],
      "outputs": [
        {
          "output_type": "stream",
          "name": "stdout",
          "text": [
            "Alert: Server issue detected.\n"
          ]
        }
      ],
      "execution_count": null
    }
  ],
  "metadata": {
    "kernelspec": {
      "display_name": "Python 3 (ipykernel)",
      "language": "python",
      "name": "python3"
    },
    "language_info": {
      "codemirror_mode": {
        "name": "ipython",
        "version": 3
      },
      "file_extension": ".py",
      "mimetype": "text/x-python",
      "name": "python",
      "nbconvert_exporter": "python",
      "pygments_lexer": "ipython3",
      "version": "3.12.8"
    },
    "colab": {
      "provenance": [],
      "include_colab_link": true
    }
  },
  "nbformat": 4,
  "nbformat_minor": 5
}